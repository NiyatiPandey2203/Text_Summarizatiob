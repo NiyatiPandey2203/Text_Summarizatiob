{
  "nbformat": 4,
  "nbformat_minor": 0,
  "metadata": {
    "colab": {
      "provenance": [],
      "authorship_tag": "ABX9TyMwLWTLNvH+6PFfU9DYmyU5",
      "include_colab_link": true
    },
    "kernelspec": {
      "name": "python3",
      "display_name": "Python 3"
    },
    "language_info": {
      "name": "python"
    }
  },
  "cells": [
    {
      "cell_type": "markdown",
      "metadata": {
        "id": "view-in-github",
        "colab_type": "text"
      },
      "source": [
        "<a href=\"https://colab.research.google.com/github/NiyatiPandey2203/Text_Summarizatiob/blob/main/TextSummarization.ipynb\" target=\"_parent\"><img src=\"https://colab.research.google.com/assets/colab-badge.svg\" alt=\"Open In Colab\"/></a>"
      ]
    },
    {
      "cell_type": "code",
      "source": [
        "import pandas as pd\n",
        "import numpy as np\n",
        "import matplotlib.pyplot as plt\n",
        "import seaborn as sns\n",
        "from sklearn.feature_extraction.text import TfidfVectorizer\n",
        "from sklearn.metrics.pairwise import cosine_similarity\n",
        "import nltk\n",
        "import textwrap\n",
        "from nltk.corpus import stopwords\n",
        "from nltk.tokenize import word_tokenize,sent_tokenize\n",
        "nltk.download(\"stopwords\")\n",
        "nltk.download(\"punkt\")"
      ],
      "metadata": {
        "colab": {
          "base_uri": "https://localhost:8080/"
        },
        "id": "DrxFadYe0TMx",
        "outputId": "555251a9-f802-491d-8572-b737fde381eb"
      },
      "execution_count": null,
      "outputs": [
        {
          "output_type": "stream",
          "name": "stderr",
          "text": [
            "[nltk_data] Downloading package stopwords to /root/nltk_data...\n",
            "[nltk_data]   Package stopwords is already up-to-date!\n",
            "[nltk_data] Downloading package punkt to /root/nltk_data...\n",
            "[nltk_data]   Package punkt is already up-to-date!\n"
          ]
        },
        {
          "output_type": "execute_result",
          "data": {
            "text/plain": [
              "True"
            ]
          },
          "metadata": {},
          "execution_count": 48
        }
      ]
    },
    {
      "cell_type": "code",
      "source": [
        "def load_dataset(dataset_path):\n",
        "    df = pd.read_csv('/content/validation.csv')\n",
        "    # Drop id column\n",
        "    df.drop(columns=['id'],inplace=True)\n",
        "    # Drop null values (if any)\n",
        "    df.dropna(inplace=True)\n",
        "    print(\"Number of records:\",len(df))\n",
        "    return df"
      ],
      "metadata": {
        "id": "hy2vpvoa0Xv-"
      },
      "execution_count": null,
      "outputs": []
    },
    {
      "cell_type": "code",
      "source": [
        "df_train = load_dataset(r'/kaggle/input/newspaper-text-summarization-cnn-dailymail/cnn_dailymail/train.csv')\n",
        "df_train.head()"
      ],
      "metadata": {
        "colab": {
          "base_uri": "https://localhost:8080/",
          "height": 223
        },
        "id": "7wjcHyJ80gWJ",
        "outputId": "3de5ec03-6680-4c7b-e606-e0345791e570"
      },
      "execution_count": null,
      "outputs": [
        {
          "output_type": "display_data",
          "data": {
            "text/plain": [
              "Number of records: \u001b[1;36m13368\u001b[0m\n"
            ],
            "text/html": [
              "<pre style=\"white-space:pre;overflow-x:auto;line-height:normal;font-family:Menlo,'DejaVu Sans Mono',consolas,'Courier New',monospace\">Number of records: <span style=\"color: #008080; text-decoration-color: #008080; font-weight: bold\">13368</span>\n",
              "</pre>\n"
            ]
          },
          "metadata": {}
        },
        {
          "output_type": "execute_result",
          "data": {
            "text/plain": [
              "                                             article  \\\n",
              "0  Sally Forrest, an actress-dancer who graced th...   \n",
              "1  A middle-school teacher in China has inked hun...   \n",
              "2  A man convicted of killing the father and sist...   \n",
              "3  Avid rugby fan Prince Harry could barely watch...   \n",
              "4  A Triple M Radio producer has been inundated w...   \n",
              "\n",
              "                                          highlights  \n",
              "0  Sally Forrest, an actress-dancer who graced th...  \n",
              "1  Works include pictures of Presidential Palace ...  \n",
              "2  Iftekhar Murtaza, 29, was convicted a year ago...  \n",
              "3  Prince Harry in attendance for England's crunc...  \n",
              "4  Nick Slater's colleagues uploaded a picture to...  "
            ],
            "text/html": [
              "\n",
              "  <div id=\"df-776d3726-736c-48e3-90f1-b6098441a0a6\" class=\"colab-df-container\">\n",
              "    <div>\n",
              "<style scoped>\n",
              "    .dataframe tbody tr th:only-of-type {\n",
              "        vertical-align: middle;\n",
              "    }\n",
              "\n",
              "    .dataframe tbody tr th {\n",
              "        vertical-align: top;\n",
              "    }\n",
              "\n",
              "    .dataframe thead th {\n",
              "        text-align: right;\n",
              "    }\n",
              "</style>\n",
              "<table border=\"1\" class=\"dataframe\">\n",
              "  <thead>\n",
              "    <tr style=\"text-align: right;\">\n",
              "      <th></th>\n",
              "      <th>article</th>\n",
              "      <th>highlights</th>\n",
              "    </tr>\n",
              "  </thead>\n",
              "  <tbody>\n",
              "    <tr>\n",
              "      <th>0</th>\n",
              "      <td>Sally Forrest, an actress-dancer who graced th...</td>\n",
              "      <td>Sally Forrest, an actress-dancer who graced th...</td>\n",
              "    </tr>\n",
              "    <tr>\n",
              "      <th>1</th>\n",
              "      <td>A middle-school teacher in China has inked hun...</td>\n",
              "      <td>Works include pictures of Presidential Palace ...</td>\n",
              "    </tr>\n",
              "    <tr>\n",
              "      <th>2</th>\n",
              "      <td>A man convicted of killing the father and sist...</td>\n",
              "      <td>Iftekhar Murtaza, 29, was convicted a year ago...</td>\n",
              "    </tr>\n",
              "    <tr>\n",
              "      <th>3</th>\n",
              "      <td>Avid rugby fan Prince Harry could barely watch...</td>\n",
              "      <td>Prince Harry in attendance for England's crunc...</td>\n",
              "    </tr>\n",
              "    <tr>\n",
              "      <th>4</th>\n",
              "      <td>A Triple M Radio producer has been inundated w...</td>\n",
              "      <td>Nick Slater's colleagues uploaded a picture to...</td>\n",
              "    </tr>\n",
              "  </tbody>\n",
              "</table>\n",
              "</div>\n",
              "    <div class=\"colab-df-buttons\">\n",
              "\n",
              "  <div class=\"colab-df-container\">\n",
              "    <button class=\"colab-df-convert\" onclick=\"convertToInteractive('df-776d3726-736c-48e3-90f1-b6098441a0a6')\"\n",
              "            title=\"Convert this dataframe to an interactive table.\"\n",
              "            style=\"display:none;\">\n",
              "\n",
              "  <svg xmlns=\"http://www.w3.org/2000/svg\" height=\"24px\" viewBox=\"0 -960 960 960\">\n",
              "    <path d=\"M120-120v-720h720v720H120Zm60-500h600v-160H180v160Zm220 220h160v-160H400v160Zm0 220h160v-160H400v160ZM180-400h160v-160H180v160Zm440 0h160v-160H620v160ZM180-180h160v-160H180v160Zm440 0h160v-160H620v160Z\"/>\n",
              "  </svg>\n",
              "    </button>\n",
              "\n",
              "  <style>\n",
              "    .colab-df-container {\n",
              "      display:flex;\n",
              "      gap: 12px;\n",
              "    }\n",
              "\n",
              "    .colab-df-convert {\n",
              "      background-color: #E8F0FE;\n",
              "      border: none;\n",
              "      border-radius: 50%;\n",
              "      cursor: pointer;\n",
              "      display: none;\n",
              "      fill: #1967D2;\n",
              "      height: 32px;\n",
              "      padding: 0 0 0 0;\n",
              "      width: 32px;\n",
              "    }\n",
              "\n",
              "    .colab-df-convert:hover {\n",
              "      background-color: #E2EBFA;\n",
              "      box-shadow: 0px 1px 2px rgba(60, 64, 67, 0.3), 0px 1px 3px 1px rgba(60, 64, 67, 0.15);\n",
              "      fill: #174EA6;\n",
              "    }\n",
              "\n",
              "    .colab-df-buttons div {\n",
              "      margin-bottom: 4px;\n",
              "    }\n",
              "\n",
              "    [theme=dark] .colab-df-convert {\n",
              "      background-color: #3B4455;\n",
              "      fill: #D2E3FC;\n",
              "    }\n",
              "\n",
              "    [theme=dark] .colab-df-convert:hover {\n",
              "      background-color: #434B5C;\n",
              "      box-shadow: 0px 1px 3px 1px rgba(0, 0, 0, 0.15);\n",
              "      filter: drop-shadow(0px 1px 2px rgba(0, 0, 0, 0.3));\n",
              "      fill: #FFFFFF;\n",
              "    }\n",
              "  </style>\n",
              "\n",
              "    <script>\n",
              "      const buttonEl =\n",
              "        document.querySelector('#df-776d3726-736c-48e3-90f1-b6098441a0a6 button.colab-df-convert');\n",
              "      buttonEl.style.display =\n",
              "        google.colab.kernel.accessAllowed ? 'block' : 'none';\n",
              "\n",
              "      async function convertToInteractive(key) {\n",
              "        const element = document.querySelector('#df-776d3726-736c-48e3-90f1-b6098441a0a6');\n",
              "        const dataTable =\n",
              "          await google.colab.kernel.invokeFunction('convertToInteractive',\n",
              "                                                    [key], {});\n",
              "        if (!dataTable) return;\n",
              "\n",
              "        const docLinkHtml = 'Like what you see? Visit the ' +\n",
              "          '<a target=\"_blank\" href=https://colab.research.google.com/notebooks/data_table.ipynb>data table notebook</a>'\n",
              "          + ' to learn more about interactive tables.';\n",
              "        element.innerHTML = '';\n",
              "        dataTable['output_type'] = 'display_data';\n",
              "        await google.colab.output.renderOutput(dataTable, element);\n",
              "        const docLink = document.createElement('div');\n",
              "        docLink.innerHTML = docLinkHtml;\n",
              "        element.appendChild(docLink);\n",
              "      }\n",
              "    </script>\n",
              "  </div>\n",
              "\n",
              "\n",
              "<div id=\"df-58fdbb91-cea4-47dd-8e31-a07cbb138452\">\n",
              "  <button class=\"colab-df-quickchart\" onclick=\"quickchart('df-58fdbb91-cea4-47dd-8e31-a07cbb138452')\"\n",
              "            title=\"Suggest charts.\"\n",
              "            style=\"display:none;\">\n",
              "\n",
              "<svg xmlns=\"http://www.w3.org/2000/svg\" height=\"24px\"viewBox=\"0 0 24 24\"\n",
              "     width=\"24px\">\n",
              "    <g>\n",
              "        <path d=\"M19 3H5c-1.1 0-2 .9-2 2v14c0 1.1.9 2 2 2h14c1.1 0 2-.9 2-2V5c0-1.1-.9-2-2-2zM9 17H7v-7h2v7zm4 0h-2V7h2v10zm4 0h-2v-4h2v4z\"/>\n",
              "    </g>\n",
              "</svg>\n",
              "  </button>\n",
              "\n",
              "<style>\n",
              "  .colab-df-quickchart {\n",
              "    background-color: #E8F0FE;\n",
              "    border: none;\n",
              "    border-radius: 50%;\n",
              "    cursor: pointer;\n",
              "    display: none;\n",
              "    fill: #1967D2;\n",
              "    height: 32px;\n",
              "    padding: 0 0 0 0;\n",
              "    width: 32px;\n",
              "  }\n",
              "\n",
              "  .colab-df-quickchart:hover {\n",
              "    background-color: #E2EBFA;\n",
              "    box-shadow: 0px 1px 2px rgba(60, 64, 67, 0.3), 0px 1px 3px 1px rgba(60, 64, 67, 0.15);\n",
              "    fill: #174EA6;\n",
              "  }\n",
              "\n",
              "  [theme=dark] .colab-df-quickchart {\n",
              "    background-color: #3B4455;\n",
              "    fill: #D2E3FC;\n",
              "  }\n",
              "\n",
              "  [theme=dark] .colab-df-quickchart:hover {\n",
              "    background-color: #434B5C;\n",
              "    box-shadow: 0px 1px 3px 1px rgba(0, 0, 0, 0.15);\n",
              "    filter: drop-shadow(0px 1px 2px rgba(0, 0, 0, 0.3));\n",
              "    fill: #FFFFFF;\n",
              "  }\n",
              "</style>\n",
              "\n",
              "  <script>\n",
              "    async function quickchart(key) {\n",
              "      const charts = await google.colab.kernel.invokeFunction(\n",
              "          'suggestCharts', [key], {});\n",
              "    }\n",
              "    (() => {\n",
              "      let quickchartButtonEl =\n",
              "        document.querySelector('#df-58fdbb91-cea4-47dd-8e31-a07cbb138452 button');\n",
              "      quickchartButtonEl.style.display =\n",
              "        google.colab.kernel.accessAllowed ? 'block' : 'none';\n",
              "    })();\n",
              "  </script>\n",
              "</div>\n",
              "    </div>\n",
              "  </div>\n"
            ]
          },
          "metadata": {},
          "execution_count": 51
        }
      ]
    },
    {
      "cell_type": "code",
      "source": [
        "def wrap(x):\n",
        "    return textwrap.fill(x,replace_whitespace=False,fix_sentence_endings=True)\n",
        "\n",
        "\n",
        "print(wrap(df_train['article'][1]))"
      ],
      "metadata": {
        "colab": {
          "base_uri": "https://localhost:8080/",
          "height": 816
        },
        "id": "6lRvhBCS0qJm",
        "outputId": "aee26efd-2ed2-4171-941e-becb78b1ba4e"
      },
      "execution_count": null,
      "outputs": [
        {
          "output_type": "display_data",
          "data": {
            "text/plain": [
              "A middle-school teacher in China has inked hundreds of sketches that\n",
              "are beyond be-leaf.  Politics teacher Wang Lian, \u001b[1;36m35\u001b[0m,  has created \u001b[1;36m1000\u001b[0m\n",
              "stunning ink drawings covering subjects as varied as cartoon\n",
              "characters and landscapes to animals, birds according to the People's\n",
              "Daily Online.  The intricate scribbles on leaves feature Wang's\n",
              "favourite sites across the city of Nanjing, which include the\n",
              "Presidential Palace, Yangtze River Bridge, the ancient Jiming Temple\n",
              "and the Qinhuai River.  Natural canvas: Artist and teacher Wang Lian\n",
              "has done hundreds of drawings, like this temple, on leaves she\n",
              "collects in the park and on the streets . Delicate: She uses an ink\n",
              "pen to gently draw the local scenes and buildings on the dried out\n",
              "leaves . 'Although teaching politics is my job, drawing is my passion\n",
              "and hobby,\u001b[32m' said Wang.  '\u001b[0mI first tried drawing on leaves about \u001b[1;36m10\u001b[0m\n",
              "years ago and fell in love with it as an art form immediately.  \u001b[32m'It'\u001b[0ms\n",
              "like drawing on very old parchment paper, you have to be really\n",
              "careful that you don't damage the leaf because it is very fragile and\n",
              "this helps focus your attention and abilities.'  Wang started giving\n",
              "the drawings away on Christmas Eve in \u001b[1;36m2012\u001b[0m when her junior high school\n",
              "son came home saying he wanted to prepare some gifts for his\n",
              "classmates.  Being an avid painter, Wang decided to give her son's\n",
              "friends unique presents of gingko leaf paintings.  Wang loves gingko\n",
              "leaves and will often pick them up along Gingko Avenue, near to her\n",
              "school, in Nanjing in east China's Jiangsu province.  Every autumn she\n",
              "collects about \u001b[1;36m2\u001b[0m,\u001b[1;36m000\u001b[0m leaves from the ground to ensure she has enough\n",
              "to cover spoils too.  Intricate: Teacher Wang has drawn hundreds of\n",
              "local scenes on leaves she has collected from the park . Hobby: The\n",
              "artist collects leaves every autumn and dries them out so she can\n",
              "sketch these impressive building scenes . 'The colour and shape of\n",
              "gingko leaves are particularly beautiful,\u001b[32m' she said.  '\u001b[0mI need to\n",
              "collect around \u001b[1;36m2000\u001b[0m leaves because this will include losses'. She\n",
              "takes them home where she then presses them between the pages of\n",
              "books.  'Luckily, I have quite a lot of books and I try to use old\n",
              "ones or ones that I've already read so I don't end up with nothing to\n",
              "read.'  Once they are dried, she carefully takes each one and using an\n",
              "ink fountain pen creates her masterpieces.  She said: 'Some people are\n",
              "into capturing beauty through photography, but for me, a digitalised\n",
              "image just isn't the same.  New leaf: Politics teacher Wang Lian has\n",
              "drawn hundreds of doodles on leaves for the last \u001b[1;36m10\u001b[0m years . 'By\n",
              "drawing what I see I become far more a part of the process and part of\n",
              "the final piece.  'One day I hope to be able to put my collection on\n",
              "display, but for now it's really just for my own pleasure.\u001b[32m'  Wang'\u001b[0ms\n",
              "leaf paintings are turned into bookmarks, postcards and sometimes even\n",
              "given as gifts to her her students so she can share the beauty of leaf\n",
              "paintings.  But locals who have had the luck of being able to see\n",
              "Wang's art have been gobsmacked.  Local art collector On Hao, \u001b[1;36m58\u001b[0m,\n",
              "said: \u001b[32m'These are truly remarkable and beautiful creations.  '\u001b[0mShe has\n",
              "so much talent she is wasted in teaching.'\n"
            ],
            "text/html": [
              "<pre style=\"white-space:pre;overflow-x:auto;line-height:normal;font-family:Menlo,'DejaVu Sans Mono',consolas,'Courier New',monospace\">A middle-school teacher in China has inked hundreds of sketches that\n",
              "are beyond be-leaf.  Politics teacher Wang Lian, <span style=\"color: #008080; text-decoration-color: #008080; font-weight: bold\">35</span>,  has created <span style=\"color: #008080; text-decoration-color: #008080; font-weight: bold\">1000</span>\n",
              "stunning ink drawings covering subjects as varied as cartoon\n",
              "characters and landscapes to animals, birds according to the People's\n",
              "Daily Online.  The intricate scribbles on leaves feature Wang's\n",
              "favourite sites across the city of Nanjing, which include the\n",
              "Presidential Palace, Yangtze River Bridge, the ancient Jiming Temple\n",
              "and the Qinhuai River.  Natural canvas: Artist and teacher Wang Lian\n",
              "has done hundreds of drawings, like this temple, on leaves she\n",
              "collects in the park and on the streets . Delicate: She uses an ink\n",
              "pen to gently draw the local scenes and buildings on the dried out\n",
              "leaves . 'Although teaching politics is my job, drawing is my passion\n",
              "and hobby,<span style=\"color: #008000; text-decoration-color: #008000\">' said Wang.  '</span>I first tried drawing on leaves about <span style=\"color: #008080; text-decoration-color: #008080; font-weight: bold\">10</span>\n",
              "years ago and fell in love with it as an art form immediately.  <span style=\"color: #008000; text-decoration-color: #008000\">'It'</span>s\n",
              "like drawing on very old parchment paper, you have to be really\n",
              "careful that you don't damage the leaf because it is very fragile and\n",
              "this helps focus your attention and abilities.'  Wang started giving\n",
              "the drawings away on Christmas Eve in <span style=\"color: #008080; text-decoration-color: #008080; font-weight: bold\">2012</span> when her junior high school\n",
              "son came home saying he wanted to prepare some gifts for his\n",
              "classmates.  Being an avid painter, Wang decided to give her son's\n",
              "friends unique presents of gingko leaf paintings.  Wang loves gingko\n",
              "leaves and will often pick them up along Gingko Avenue, near to her\n",
              "school, in Nanjing in east China's Jiangsu province.  Every autumn she\n",
              "collects about <span style=\"color: #008080; text-decoration-color: #008080; font-weight: bold\">2</span>,<span style=\"color: #008080; text-decoration-color: #008080; font-weight: bold\">000</span> leaves from the ground to ensure she has enough\n",
              "to cover spoils too.  Intricate: Teacher Wang has drawn hundreds of\n",
              "local scenes on leaves she has collected from the park . Hobby: The\n",
              "artist collects leaves every autumn and dries them out so she can\n",
              "sketch these impressive building scenes . 'The colour and shape of\n",
              "gingko leaves are particularly beautiful,<span style=\"color: #008000; text-decoration-color: #008000\">' she said.  '</span>I need to\n",
              "collect around <span style=\"color: #008080; text-decoration-color: #008080; font-weight: bold\">2000</span> leaves because this will include losses'. She\n",
              "takes them home where she then presses them between the pages of\n",
              "books.  'Luckily, I have quite a lot of books and I try to use old\n",
              "ones or ones that I've already read so I don't end up with nothing to\n",
              "read.'  Once they are dried, she carefully takes each one and using an\n",
              "ink fountain pen creates her masterpieces.  She said: 'Some people are\n",
              "into capturing beauty through photography, but for me, a digitalised\n",
              "image just isn't the same.  New leaf: Politics teacher Wang Lian has\n",
              "drawn hundreds of doodles on leaves for the last <span style=\"color: #008080; text-decoration-color: #008080; font-weight: bold\">10</span> years . 'By\n",
              "drawing what I see I become far more a part of the process and part of\n",
              "the final piece.  'One day I hope to be able to put my collection on\n",
              "display, but for now it's really just for my own pleasure.<span style=\"color: #008000; text-decoration-color: #008000\">'  Wang'</span>s\n",
              "leaf paintings are turned into bookmarks, postcards and sometimes even\n",
              "given as gifts to her her students so she can share the beauty of leaf\n",
              "paintings.  But locals who have had the luck of being able to see\n",
              "Wang's art have been gobsmacked.  Local art collector On Hao, <span style=\"color: #008080; text-decoration-color: #008080; font-weight: bold\">58</span>,\n",
              "said: <span style=\"color: #008000; text-decoration-color: #008000\">'These are truly remarkable and beautiful creations.  '</span>She has\n",
              "so much talent she is wasted in teaching.'\n",
              "</pre>\n"
            ]
          },
          "metadata": {}
        }
      ]
    },
    {
      "cell_type": "code",
      "source": [
        "def wrap(x):\n",
        "    return textwrap.fill(x,replace_whitespace=False,fix_sentence_endings=True)\n",
        "\n",
        "\n",
        "print(wrap(df_train['article'][1]))"
      ],
      "metadata": {
        "colab": {
          "base_uri": "https://localhost:8080/",
          "height": 816
        },
        "id": "mXvR-u760vGi",
        "outputId": "8350f86e-4f67-42c6-85e7-b732d3a2d571"
      },
      "execution_count": null,
      "outputs": [
        {
          "output_type": "display_data",
          "data": {
            "text/plain": [
              "A middle-school teacher in China has inked hundreds of sketches that\n",
              "are beyond be-leaf.  Politics teacher Wang Lian, \u001b[1;36m35\u001b[0m,  has created \u001b[1;36m1000\u001b[0m\n",
              "stunning ink drawings covering subjects as varied as cartoon\n",
              "characters and landscapes to animals, birds according to the People's\n",
              "Daily Online.  The intricate scribbles on leaves feature Wang's\n",
              "favourite sites across the city of Nanjing, which include the\n",
              "Presidential Palace, Yangtze River Bridge, the ancient Jiming Temple\n",
              "and the Qinhuai River.  Natural canvas: Artist and teacher Wang Lian\n",
              "has done hundreds of drawings, like this temple, on leaves she\n",
              "collects in the park and on the streets . Delicate: She uses an ink\n",
              "pen to gently draw the local scenes and buildings on the dried out\n",
              "leaves . 'Although teaching politics is my job, drawing is my passion\n",
              "and hobby,\u001b[32m' said Wang.  '\u001b[0mI first tried drawing on leaves about \u001b[1;36m10\u001b[0m\n",
              "years ago and fell in love with it as an art form immediately.  \u001b[32m'It'\u001b[0ms\n",
              "like drawing on very old parchment paper, you have to be really\n",
              "careful that you don't damage the leaf because it is very fragile and\n",
              "this helps focus your attention and abilities.'  Wang started giving\n",
              "the drawings away on Christmas Eve in \u001b[1;36m2012\u001b[0m when her junior high school\n",
              "son came home saying he wanted to prepare some gifts for his\n",
              "classmates.  Being an avid painter, Wang decided to give her son's\n",
              "friends unique presents of gingko leaf paintings.  Wang loves gingko\n",
              "leaves and will often pick them up along Gingko Avenue, near to her\n",
              "school, in Nanjing in east China's Jiangsu province.  Every autumn she\n",
              "collects about \u001b[1;36m2\u001b[0m,\u001b[1;36m000\u001b[0m leaves from the ground to ensure she has enough\n",
              "to cover spoils too.  Intricate: Teacher Wang has drawn hundreds of\n",
              "local scenes on leaves she has collected from the park . Hobby: The\n",
              "artist collects leaves every autumn and dries them out so she can\n",
              "sketch these impressive building scenes . 'The colour and shape of\n",
              "gingko leaves are particularly beautiful,\u001b[32m' she said.  '\u001b[0mI need to\n",
              "collect around \u001b[1;36m2000\u001b[0m leaves because this will include losses'. She\n",
              "takes them home where she then presses them between the pages of\n",
              "books.  'Luckily, I have quite a lot of books and I try to use old\n",
              "ones or ones that I've already read so I don't end up with nothing to\n",
              "read.'  Once they are dried, she carefully takes each one and using an\n",
              "ink fountain pen creates her masterpieces.  She said: 'Some people are\n",
              "into capturing beauty through photography, but for me, a digitalised\n",
              "image just isn't the same.  New leaf: Politics teacher Wang Lian has\n",
              "drawn hundreds of doodles on leaves for the last \u001b[1;36m10\u001b[0m years . 'By\n",
              "drawing what I see I become far more a part of the process and part of\n",
              "the final piece.  'One day I hope to be able to put my collection on\n",
              "display, but for now it's really just for my own pleasure.\u001b[32m'  Wang'\u001b[0ms\n",
              "leaf paintings are turned into bookmarks, postcards and sometimes even\n",
              "given as gifts to her her students so she can share the beauty of leaf\n",
              "paintings.  But locals who have had the luck of being able to see\n",
              "Wang's art have been gobsmacked.  Local art collector On Hao, \u001b[1;36m58\u001b[0m,\n",
              "said: \u001b[32m'These are truly remarkable and beautiful creations.  '\u001b[0mShe has\n",
              "so much talent she is wasted in teaching.'\n"
            ],
            "text/html": [
              "<pre style=\"white-space:pre;overflow-x:auto;line-height:normal;font-family:Menlo,'DejaVu Sans Mono',consolas,'Courier New',monospace\">A middle-school teacher in China has inked hundreds of sketches that\n",
              "are beyond be-leaf.  Politics teacher Wang Lian, <span style=\"color: #008080; text-decoration-color: #008080; font-weight: bold\">35</span>,  has created <span style=\"color: #008080; text-decoration-color: #008080; font-weight: bold\">1000</span>\n",
              "stunning ink drawings covering subjects as varied as cartoon\n",
              "characters and landscapes to animals, birds according to the People's\n",
              "Daily Online.  The intricate scribbles on leaves feature Wang's\n",
              "favourite sites across the city of Nanjing, which include the\n",
              "Presidential Palace, Yangtze River Bridge, the ancient Jiming Temple\n",
              "and the Qinhuai River.  Natural canvas: Artist and teacher Wang Lian\n",
              "has done hundreds of drawings, like this temple, on leaves she\n",
              "collects in the park and on the streets . Delicate: She uses an ink\n",
              "pen to gently draw the local scenes and buildings on the dried out\n",
              "leaves . 'Although teaching politics is my job, drawing is my passion\n",
              "and hobby,<span style=\"color: #008000; text-decoration-color: #008000\">' said Wang.  '</span>I first tried drawing on leaves about <span style=\"color: #008080; text-decoration-color: #008080; font-weight: bold\">10</span>\n",
              "years ago and fell in love with it as an art form immediately.  <span style=\"color: #008000; text-decoration-color: #008000\">'It'</span>s\n",
              "like drawing on very old parchment paper, you have to be really\n",
              "careful that you don't damage the leaf because it is very fragile and\n",
              "this helps focus your attention and abilities.'  Wang started giving\n",
              "the drawings away on Christmas Eve in <span style=\"color: #008080; text-decoration-color: #008080; font-weight: bold\">2012</span> when her junior high school\n",
              "son came home saying he wanted to prepare some gifts for his\n",
              "classmates.  Being an avid painter, Wang decided to give her son's\n",
              "friends unique presents of gingko leaf paintings.  Wang loves gingko\n",
              "leaves and will often pick them up along Gingko Avenue, near to her\n",
              "school, in Nanjing in east China's Jiangsu province.  Every autumn she\n",
              "collects about <span style=\"color: #008080; text-decoration-color: #008080; font-weight: bold\">2</span>,<span style=\"color: #008080; text-decoration-color: #008080; font-weight: bold\">000</span> leaves from the ground to ensure she has enough\n",
              "to cover spoils too.  Intricate: Teacher Wang has drawn hundreds of\n",
              "local scenes on leaves she has collected from the park . Hobby: The\n",
              "artist collects leaves every autumn and dries them out so she can\n",
              "sketch these impressive building scenes . 'The colour and shape of\n",
              "gingko leaves are particularly beautiful,<span style=\"color: #008000; text-decoration-color: #008000\">' she said.  '</span>I need to\n",
              "collect around <span style=\"color: #008080; text-decoration-color: #008080; font-weight: bold\">2000</span> leaves because this will include losses'. She\n",
              "takes them home where she then presses them between the pages of\n",
              "books.  'Luckily, I have quite a lot of books and I try to use old\n",
              "ones or ones that I've already read so I don't end up with nothing to\n",
              "read.'  Once they are dried, she carefully takes each one and using an\n",
              "ink fountain pen creates her masterpieces.  She said: 'Some people are\n",
              "into capturing beauty through photography, but for me, a digitalised\n",
              "image just isn't the same.  New leaf: Politics teacher Wang Lian has\n",
              "drawn hundreds of doodles on leaves for the last <span style=\"color: #008080; text-decoration-color: #008080; font-weight: bold\">10</span> years . 'By\n",
              "drawing what I see I become far more a part of the process and part of\n",
              "the final piece.  'One day I hope to be able to put my collection on\n",
              "display, but for now it's really just for my own pleasure.<span style=\"color: #008000; text-decoration-color: #008000\">'  Wang'</span>s\n",
              "leaf paintings are turned into bookmarks, postcards and sometimes even\n",
              "given as gifts to her her students so she can share the beauty of leaf\n",
              "paintings.  But locals who have had the luck of being able to see\n",
              "Wang's art have been gobsmacked.  Local art collector On Hao, <span style=\"color: #008080; text-decoration-color: #008080; font-weight: bold\">58</span>,\n",
              "said: <span style=\"color: #008000; text-decoration-color: #008000\">'These are truly remarkable and beautiful creations.  '</span>She has\n",
              "so much talent she is wasted in teaching.'\n",
              "</pre>\n"
            ]
          },
          "metadata": {}
        }
      ]
    },
    {
      "cell_type": "code",
      "source": [
        "df_val = load_dataset(r'/kaggle/input/newspaper-text-summarization-cnn-dailymail/cnn_dailymail/validation.csv')\n",
        "df_val.head()"
      ],
      "metadata": {
        "colab": {
          "base_uri": "https://localhost:8080/",
          "height": 223
        },
        "id": "smUz0M_I1uBz",
        "outputId": "9fe52801-ee32-4ba1-b0d7-8240541685be"
      },
      "execution_count": null,
      "outputs": [
        {
          "output_type": "display_data",
          "data": {
            "text/plain": [
              "Number of records: \u001b[1;36m13368\u001b[0m\n"
            ],
            "text/html": [
              "<pre style=\"white-space:pre;overflow-x:auto;line-height:normal;font-family:Menlo,'DejaVu Sans Mono',consolas,'Courier New',monospace\">Number of records: <span style=\"color: #008080; text-decoration-color: #008080; font-weight: bold\">13368</span>\n",
              "</pre>\n"
            ]
          },
          "metadata": {}
        },
        {
          "output_type": "execute_result",
          "data": {
            "text/plain": [
              "                                             article  \\\n",
              "0  Sally Forrest, an actress-dancer who graced th...   \n",
              "1  A middle-school teacher in China has inked hun...   \n",
              "2  A man convicted of killing the father and sist...   \n",
              "3  Avid rugby fan Prince Harry could barely watch...   \n",
              "4  A Triple M Radio producer has been inundated w...   \n",
              "\n",
              "                                          highlights  \n",
              "0  Sally Forrest, an actress-dancer who graced th...  \n",
              "1  Works include pictures of Presidential Palace ...  \n",
              "2  Iftekhar Murtaza, 29, was convicted a year ago...  \n",
              "3  Prince Harry in attendance for England's crunc...  \n",
              "4  Nick Slater's colleagues uploaded a picture to...  "
            ],
            "text/html": [
              "\n",
              "  <div id=\"df-a8febf33-3dc7-447b-afb7-57eaa2557ed4\" class=\"colab-df-container\">\n",
              "    <div>\n",
              "<style scoped>\n",
              "    .dataframe tbody tr th:only-of-type {\n",
              "        vertical-align: middle;\n",
              "    }\n",
              "\n",
              "    .dataframe tbody tr th {\n",
              "        vertical-align: top;\n",
              "    }\n",
              "\n",
              "    .dataframe thead th {\n",
              "        text-align: right;\n",
              "    }\n",
              "</style>\n",
              "<table border=\"1\" class=\"dataframe\">\n",
              "  <thead>\n",
              "    <tr style=\"text-align: right;\">\n",
              "      <th></th>\n",
              "      <th>article</th>\n",
              "      <th>highlights</th>\n",
              "    </tr>\n",
              "  </thead>\n",
              "  <tbody>\n",
              "    <tr>\n",
              "      <th>0</th>\n",
              "      <td>Sally Forrest, an actress-dancer who graced th...</td>\n",
              "      <td>Sally Forrest, an actress-dancer who graced th...</td>\n",
              "    </tr>\n",
              "    <tr>\n",
              "      <th>1</th>\n",
              "      <td>A middle-school teacher in China has inked hun...</td>\n",
              "      <td>Works include pictures of Presidential Palace ...</td>\n",
              "    </tr>\n",
              "    <tr>\n",
              "      <th>2</th>\n",
              "      <td>A man convicted of killing the father and sist...</td>\n",
              "      <td>Iftekhar Murtaza, 29, was convicted a year ago...</td>\n",
              "    </tr>\n",
              "    <tr>\n",
              "      <th>3</th>\n",
              "      <td>Avid rugby fan Prince Harry could barely watch...</td>\n",
              "      <td>Prince Harry in attendance for England's crunc...</td>\n",
              "    </tr>\n",
              "    <tr>\n",
              "      <th>4</th>\n",
              "      <td>A Triple M Radio producer has been inundated w...</td>\n",
              "      <td>Nick Slater's colleagues uploaded a picture to...</td>\n",
              "    </tr>\n",
              "  </tbody>\n",
              "</table>\n",
              "</div>\n",
              "    <div class=\"colab-df-buttons\">\n",
              "\n",
              "  <div class=\"colab-df-container\">\n",
              "    <button class=\"colab-df-convert\" onclick=\"convertToInteractive('df-a8febf33-3dc7-447b-afb7-57eaa2557ed4')\"\n",
              "            title=\"Convert this dataframe to an interactive table.\"\n",
              "            style=\"display:none;\">\n",
              "\n",
              "  <svg xmlns=\"http://www.w3.org/2000/svg\" height=\"24px\" viewBox=\"0 -960 960 960\">\n",
              "    <path d=\"M120-120v-720h720v720H120Zm60-500h600v-160H180v160Zm220 220h160v-160H400v160Zm0 220h160v-160H400v160ZM180-400h160v-160H180v160Zm440 0h160v-160H620v160ZM180-180h160v-160H180v160Zm440 0h160v-160H620v160Z\"/>\n",
              "  </svg>\n",
              "    </button>\n",
              "\n",
              "  <style>\n",
              "    .colab-df-container {\n",
              "      display:flex;\n",
              "      gap: 12px;\n",
              "    }\n",
              "\n",
              "    .colab-df-convert {\n",
              "      background-color: #E8F0FE;\n",
              "      border: none;\n",
              "      border-radius: 50%;\n",
              "      cursor: pointer;\n",
              "      display: none;\n",
              "      fill: #1967D2;\n",
              "      height: 32px;\n",
              "      padding: 0 0 0 0;\n",
              "      width: 32px;\n",
              "    }\n",
              "\n",
              "    .colab-df-convert:hover {\n",
              "      background-color: #E2EBFA;\n",
              "      box-shadow: 0px 1px 2px rgba(60, 64, 67, 0.3), 0px 1px 3px 1px rgba(60, 64, 67, 0.15);\n",
              "      fill: #174EA6;\n",
              "    }\n",
              "\n",
              "    .colab-df-buttons div {\n",
              "      margin-bottom: 4px;\n",
              "    }\n",
              "\n",
              "    [theme=dark] .colab-df-convert {\n",
              "      background-color: #3B4455;\n",
              "      fill: #D2E3FC;\n",
              "    }\n",
              "\n",
              "    [theme=dark] .colab-df-convert:hover {\n",
              "      background-color: #434B5C;\n",
              "      box-shadow: 0px 1px 3px 1px rgba(0, 0, 0, 0.15);\n",
              "      filter: drop-shadow(0px 1px 2px rgba(0, 0, 0, 0.3));\n",
              "      fill: #FFFFFF;\n",
              "    }\n",
              "  </style>\n",
              "\n",
              "    <script>\n",
              "      const buttonEl =\n",
              "        document.querySelector('#df-a8febf33-3dc7-447b-afb7-57eaa2557ed4 button.colab-df-convert');\n",
              "      buttonEl.style.display =\n",
              "        google.colab.kernel.accessAllowed ? 'block' : 'none';\n",
              "\n",
              "      async function convertToInteractive(key) {\n",
              "        const element = document.querySelector('#df-a8febf33-3dc7-447b-afb7-57eaa2557ed4');\n",
              "        const dataTable =\n",
              "          await google.colab.kernel.invokeFunction('convertToInteractive',\n",
              "                                                    [key], {});\n",
              "        if (!dataTable) return;\n",
              "\n",
              "        const docLinkHtml = 'Like what you see? Visit the ' +\n",
              "          '<a target=\"_blank\" href=https://colab.research.google.com/notebooks/data_table.ipynb>data table notebook</a>'\n",
              "          + ' to learn more about interactive tables.';\n",
              "        element.innerHTML = '';\n",
              "        dataTable['output_type'] = 'display_data';\n",
              "        await google.colab.output.renderOutput(dataTable, element);\n",
              "        const docLink = document.createElement('div');\n",
              "        docLink.innerHTML = docLinkHtml;\n",
              "        element.appendChild(docLink);\n",
              "      }\n",
              "    </script>\n",
              "  </div>\n",
              "\n",
              "\n",
              "<div id=\"df-66c0a475-0aae-46eb-bd1e-fcc3348fac32\">\n",
              "  <button class=\"colab-df-quickchart\" onclick=\"quickchart('df-66c0a475-0aae-46eb-bd1e-fcc3348fac32')\"\n",
              "            title=\"Suggest charts.\"\n",
              "            style=\"display:none;\">\n",
              "\n",
              "<svg xmlns=\"http://www.w3.org/2000/svg\" height=\"24px\"viewBox=\"0 0 24 24\"\n",
              "     width=\"24px\">\n",
              "    <g>\n",
              "        <path d=\"M19 3H5c-1.1 0-2 .9-2 2v14c0 1.1.9 2 2 2h14c1.1 0 2-.9 2-2V5c0-1.1-.9-2-2-2zM9 17H7v-7h2v7zm4 0h-2V7h2v10zm4 0h-2v-4h2v4z\"/>\n",
              "    </g>\n",
              "</svg>\n",
              "  </button>\n",
              "\n",
              "<style>\n",
              "  .colab-df-quickchart {\n",
              "    background-color: #E8F0FE;\n",
              "    border: none;\n",
              "    border-radius: 50%;\n",
              "    cursor: pointer;\n",
              "    display: none;\n",
              "    fill: #1967D2;\n",
              "    height: 32px;\n",
              "    padding: 0 0 0 0;\n",
              "    width: 32px;\n",
              "  }\n",
              "\n",
              "  .colab-df-quickchart:hover {\n",
              "    background-color: #E2EBFA;\n",
              "    box-shadow: 0px 1px 2px rgba(60, 64, 67, 0.3), 0px 1px 3px 1px rgba(60, 64, 67, 0.15);\n",
              "    fill: #174EA6;\n",
              "  }\n",
              "\n",
              "  [theme=dark] .colab-df-quickchart {\n",
              "    background-color: #3B4455;\n",
              "    fill: #D2E3FC;\n",
              "  }\n",
              "\n",
              "  [theme=dark] .colab-df-quickchart:hover {\n",
              "    background-color: #434B5C;\n",
              "    box-shadow: 0px 1px 3px 1px rgba(0, 0, 0, 0.15);\n",
              "    filter: drop-shadow(0px 1px 2px rgba(0, 0, 0, 0.3));\n",
              "    fill: #FFFFFF;\n",
              "  }\n",
              "</style>\n",
              "\n",
              "  <script>\n",
              "    async function quickchart(key) {\n",
              "      const charts = await google.colab.kernel.invokeFunction(\n",
              "          'suggestCharts', [key], {});\n",
              "    }\n",
              "    (() => {\n",
              "      let quickchartButtonEl =\n",
              "        document.querySelector('#df-66c0a475-0aae-46eb-bd1e-fcc3348fac32 button');\n",
              "      quickchartButtonEl.style.display =\n",
              "        google.colab.kernel.accessAllowed ? 'block' : 'none';\n",
              "    })();\n",
              "  </script>\n",
              "</div>\n",
              "    </div>\n",
              "  </div>\n"
            ]
          },
          "metadata": {},
          "execution_count": 58
        }
      ]
    },
    {
      "cell_type": "code",
      "source": [
        "df_test = load_dataset(r'/kaggle/input/newspaper-text-summarization-cnn-dailymail/cnn_dailymail/test.csv')\n",
        "df_test.head()"
      ],
      "metadata": {
        "colab": {
          "base_uri": "https://localhost:8080/",
          "height": 223
        },
        "id": "N6nC0MoO1_VY",
        "outputId": "e213271c-8649-40fa-dbb8-13d9bc073c34"
      },
      "execution_count": null,
      "outputs": [
        {
          "output_type": "display_data",
          "data": {
            "text/plain": [
              "Number of records: \u001b[1;36m13368\u001b[0m\n"
            ],
            "text/html": [
              "<pre style=\"white-space:pre;overflow-x:auto;line-height:normal;font-family:Menlo,'DejaVu Sans Mono',consolas,'Courier New',monospace\">Number of records: <span style=\"color: #008080; text-decoration-color: #008080; font-weight: bold\">13368</span>\n",
              "</pre>\n"
            ]
          },
          "metadata": {}
        },
        {
          "output_type": "execute_result",
          "data": {
            "text/plain": [
              "                                             article  \\\n",
              "0  Sally Forrest, an actress-dancer who graced th...   \n",
              "1  A middle-school teacher in China has inked hun...   \n",
              "2  A man convicted of killing the father and sist...   \n",
              "3  Avid rugby fan Prince Harry could barely watch...   \n",
              "4  A Triple M Radio producer has been inundated w...   \n",
              "\n",
              "                                          highlights  \n",
              "0  Sally Forrest, an actress-dancer who graced th...  \n",
              "1  Works include pictures of Presidential Palace ...  \n",
              "2  Iftekhar Murtaza, 29, was convicted a year ago...  \n",
              "3  Prince Harry in attendance for England's crunc...  \n",
              "4  Nick Slater's colleagues uploaded a picture to...  "
            ],
            "text/html": [
              "\n",
              "  <div id=\"df-97cbfd1e-a867-4bff-a16a-7eef0274315e\" class=\"colab-df-container\">\n",
              "    <div>\n",
              "<style scoped>\n",
              "    .dataframe tbody tr th:only-of-type {\n",
              "        vertical-align: middle;\n",
              "    }\n",
              "\n",
              "    .dataframe tbody tr th {\n",
              "        vertical-align: top;\n",
              "    }\n",
              "\n",
              "    .dataframe thead th {\n",
              "        text-align: right;\n",
              "    }\n",
              "</style>\n",
              "<table border=\"1\" class=\"dataframe\">\n",
              "  <thead>\n",
              "    <tr style=\"text-align: right;\">\n",
              "      <th></th>\n",
              "      <th>article</th>\n",
              "      <th>highlights</th>\n",
              "    </tr>\n",
              "  </thead>\n",
              "  <tbody>\n",
              "    <tr>\n",
              "      <th>0</th>\n",
              "      <td>Sally Forrest, an actress-dancer who graced th...</td>\n",
              "      <td>Sally Forrest, an actress-dancer who graced th...</td>\n",
              "    </tr>\n",
              "    <tr>\n",
              "      <th>1</th>\n",
              "      <td>A middle-school teacher in China has inked hun...</td>\n",
              "      <td>Works include pictures of Presidential Palace ...</td>\n",
              "    </tr>\n",
              "    <tr>\n",
              "      <th>2</th>\n",
              "      <td>A man convicted of killing the father and sist...</td>\n",
              "      <td>Iftekhar Murtaza, 29, was convicted a year ago...</td>\n",
              "    </tr>\n",
              "    <tr>\n",
              "      <th>3</th>\n",
              "      <td>Avid rugby fan Prince Harry could barely watch...</td>\n",
              "      <td>Prince Harry in attendance for England's crunc...</td>\n",
              "    </tr>\n",
              "    <tr>\n",
              "      <th>4</th>\n",
              "      <td>A Triple M Radio producer has been inundated w...</td>\n",
              "      <td>Nick Slater's colleagues uploaded a picture to...</td>\n",
              "    </tr>\n",
              "  </tbody>\n",
              "</table>\n",
              "</div>\n",
              "    <div class=\"colab-df-buttons\">\n",
              "\n",
              "  <div class=\"colab-df-container\">\n",
              "    <button class=\"colab-df-convert\" onclick=\"convertToInteractive('df-97cbfd1e-a867-4bff-a16a-7eef0274315e')\"\n",
              "            title=\"Convert this dataframe to an interactive table.\"\n",
              "            style=\"display:none;\">\n",
              "\n",
              "  <svg xmlns=\"http://www.w3.org/2000/svg\" height=\"24px\" viewBox=\"0 -960 960 960\">\n",
              "    <path d=\"M120-120v-720h720v720H120Zm60-500h600v-160H180v160Zm220 220h160v-160H400v160Zm0 220h160v-160H400v160ZM180-400h160v-160H180v160Zm440 0h160v-160H620v160ZM180-180h160v-160H180v160Zm440 0h160v-160H620v160Z\"/>\n",
              "  </svg>\n",
              "    </button>\n",
              "\n",
              "  <style>\n",
              "    .colab-df-container {\n",
              "      display:flex;\n",
              "      gap: 12px;\n",
              "    }\n",
              "\n",
              "    .colab-df-convert {\n",
              "      background-color: #E8F0FE;\n",
              "      border: none;\n",
              "      border-radius: 50%;\n",
              "      cursor: pointer;\n",
              "      display: none;\n",
              "      fill: #1967D2;\n",
              "      height: 32px;\n",
              "      padding: 0 0 0 0;\n",
              "      width: 32px;\n",
              "    }\n",
              "\n",
              "    .colab-df-convert:hover {\n",
              "      background-color: #E2EBFA;\n",
              "      box-shadow: 0px 1px 2px rgba(60, 64, 67, 0.3), 0px 1px 3px 1px rgba(60, 64, 67, 0.15);\n",
              "      fill: #174EA6;\n",
              "    }\n",
              "\n",
              "    .colab-df-buttons div {\n",
              "      margin-bottom: 4px;\n",
              "    }\n",
              "\n",
              "    [theme=dark] .colab-df-convert {\n",
              "      background-color: #3B4455;\n",
              "      fill: #D2E3FC;\n",
              "    }\n",
              "\n",
              "    [theme=dark] .colab-df-convert:hover {\n",
              "      background-color: #434B5C;\n",
              "      box-shadow: 0px 1px 3px 1px rgba(0, 0, 0, 0.15);\n",
              "      filter: drop-shadow(0px 1px 2px rgba(0, 0, 0, 0.3));\n",
              "      fill: #FFFFFF;\n",
              "    }\n",
              "  </style>\n",
              "\n",
              "    <script>\n",
              "      const buttonEl =\n",
              "        document.querySelector('#df-97cbfd1e-a867-4bff-a16a-7eef0274315e button.colab-df-convert');\n",
              "      buttonEl.style.display =\n",
              "        google.colab.kernel.accessAllowed ? 'block' : 'none';\n",
              "\n",
              "      async function convertToInteractive(key) {\n",
              "        const element = document.querySelector('#df-97cbfd1e-a867-4bff-a16a-7eef0274315e');\n",
              "        const dataTable =\n",
              "          await google.colab.kernel.invokeFunction('convertToInteractive',\n",
              "                                                    [key], {});\n",
              "        if (!dataTable) return;\n",
              "\n",
              "        const docLinkHtml = 'Like what you see? Visit the ' +\n",
              "          '<a target=\"_blank\" href=https://colab.research.google.com/notebooks/data_table.ipynb>data table notebook</a>'\n",
              "          + ' to learn more about interactive tables.';\n",
              "        element.innerHTML = '';\n",
              "        dataTable['output_type'] = 'display_data';\n",
              "        await google.colab.output.renderOutput(dataTable, element);\n",
              "        const docLink = document.createElement('div');\n",
              "        docLink.innerHTML = docLinkHtml;\n",
              "        element.appendChild(docLink);\n",
              "      }\n",
              "    </script>\n",
              "  </div>\n",
              "\n",
              "\n",
              "<div id=\"df-8b978a46-4fd7-4e86-be9e-dae617354715\">\n",
              "  <button class=\"colab-df-quickchart\" onclick=\"quickchart('df-8b978a46-4fd7-4e86-be9e-dae617354715')\"\n",
              "            title=\"Suggest charts.\"\n",
              "            style=\"display:none;\">\n",
              "\n",
              "<svg xmlns=\"http://www.w3.org/2000/svg\" height=\"24px\"viewBox=\"0 0 24 24\"\n",
              "     width=\"24px\">\n",
              "    <g>\n",
              "        <path d=\"M19 3H5c-1.1 0-2 .9-2 2v14c0 1.1.9 2 2 2h14c1.1 0 2-.9 2-2V5c0-1.1-.9-2-2-2zM9 17H7v-7h2v7zm4 0h-2V7h2v10zm4 0h-2v-4h2v4z\"/>\n",
              "    </g>\n",
              "</svg>\n",
              "  </button>\n",
              "\n",
              "<style>\n",
              "  .colab-df-quickchart {\n",
              "    background-color: #E8F0FE;\n",
              "    border: none;\n",
              "    border-radius: 50%;\n",
              "    cursor: pointer;\n",
              "    display: none;\n",
              "    fill: #1967D2;\n",
              "    height: 32px;\n",
              "    padding: 0 0 0 0;\n",
              "    width: 32px;\n",
              "  }\n",
              "\n",
              "  .colab-df-quickchart:hover {\n",
              "    background-color: #E2EBFA;\n",
              "    box-shadow: 0px 1px 2px rgba(60, 64, 67, 0.3), 0px 1px 3px 1px rgba(60, 64, 67, 0.15);\n",
              "    fill: #174EA6;\n",
              "  }\n",
              "\n",
              "  [theme=dark] .colab-df-quickchart {\n",
              "    background-color: #3B4455;\n",
              "    fill: #D2E3FC;\n",
              "  }\n",
              "\n",
              "  [theme=dark] .colab-df-quickchart:hover {\n",
              "    background-color: #434B5C;\n",
              "    box-shadow: 0px 1px 3px 1px rgba(0, 0, 0, 0.15);\n",
              "    filter: drop-shadow(0px 1px 2px rgba(0, 0, 0, 0.3));\n",
              "    fill: #FFFFFF;\n",
              "  }\n",
              "</style>\n",
              "\n",
              "  <script>\n",
              "    async function quickchart(key) {\n",
              "      const charts = await google.colab.kernel.invokeFunction(\n",
              "          'suggestCharts', [key], {});\n",
              "    }\n",
              "    (() => {\n",
              "      let quickchartButtonEl =\n",
              "        document.querySelector('#df-8b978a46-4fd7-4e86-be9e-dae617354715 button');\n",
              "      quickchartButtonEl.style.display =\n",
              "        google.colab.kernel.accessAllowed ? 'block' : 'none';\n",
              "    })();\n",
              "  </script>\n",
              "</div>\n",
              "    </div>\n",
              "  </div>\n"
            ]
          },
          "metadata": {},
          "execution_count": 60
        }
      ]
    },
    {
      "cell_type": "code",
      "source": [
        "!pip install sumy"
      ],
      "metadata": {
        "colab": {
          "base_uri": "https://localhost:8080/"
        },
        "id": "qL-47JBK2atD",
        "outputId": "e6263b4a-b9da-4dbe-810b-e6d340550d00"
      },
      "execution_count": null,
      "outputs": [
        {
          "output_type": "stream",
          "name": "stdout",
          "text": [
            "Collecting sumy\n",
            "  Downloading sumy-0.11.0-py2.py3-none-any.whl (97 kB)\n",
            "\u001b[?25l     \u001b[90m━━━━━━━━━━━━━━━━━━━━━━━━━━━━━━━━━━━━━━━━\u001b[0m \u001b[32m0.0/97.3 kB\u001b[0m \u001b[31m?\u001b[0m eta \u001b[36m-:--:--\u001b[0m\r\u001b[2K     \u001b[91m━━━━━━━━━━━━━━━━━━━━━━━━━━━━━\u001b[0m\u001b[90m╺\u001b[0m\u001b[90m━━━━━━━━━━\u001b[0m \u001b[32m71.7/97.3 kB\u001b[0m \u001b[31m2.0 MB/s\u001b[0m eta \u001b[36m0:00:01\u001b[0m\r\u001b[2K     \u001b[90m━━━━━━━━━━━━━━━━━━━━━━━━━━━━━━━━━━━━━━━━\u001b[0m \u001b[32m97.3/97.3 kB\u001b[0m \u001b[31m1.9 MB/s\u001b[0m eta \u001b[36m0:00:00\u001b[0m\n",
            "\u001b[?25hCollecting docopt<0.7,>=0.6.1 (from sumy)\n",
            "  Downloading docopt-0.6.2.tar.gz (25 kB)\n",
            "  Preparing metadata (setup.py) ... \u001b[?25l\u001b[?25hdone\n",
            "Collecting breadability>=0.1.20 (from sumy)\n",
            "  Downloading breadability-0.1.20.tar.gz (32 kB)\n",
            "  Preparing metadata (setup.py) ... \u001b[?25l\u001b[?25hdone\n",
            "Requirement already satisfied: requests>=2.7.0 in /usr/local/lib/python3.10/dist-packages (from sumy) (2.31.0)\n",
            "Collecting pycountry>=18.2.23 (from sumy)\n",
            "  Downloading pycountry-22.3.5.tar.gz (10.1 MB)\n",
            "\u001b[2K     \u001b[90m━━━━━━━━━━━━━━━━━━━━━━━━━━━━━━━━━━━━━━━━\u001b[0m \u001b[32m10.1/10.1 MB\u001b[0m \u001b[31m52.9 MB/s\u001b[0m eta \u001b[36m0:00:00\u001b[0m\n",
            "\u001b[?25h  Installing build dependencies ... \u001b[?25l\u001b[?25hdone\n",
            "  Getting requirements to build wheel ... \u001b[?25l\u001b[?25hdone\n",
            "  Preparing metadata (pyproject.toml) ... \u001b[?25l\u001b[?25hdone\n",
            "Requirement already satisfied: nltk>=3.0.2 in /usr/local/lib/python3.10/dist-packages (from sumy) (3.8.1)\n",
            "Requirement already satisfied: chardet in /usr/local/lib/python3.10/dist-packages (from breadability>=0.1.20->sumy) (5.2.0)\n",
            "Requirement already satisfied: lxml>=2.0 in /usr/local/lib/python3.10/dist-packages (from breadability>=0.1.20->sumy) (4.9.3)\n",
            "Requirement already satisfied: click in /usr/local/lib/python3.10/dist-packages (from nltk>=3.0.2->sumy) (8.1.6)\n",
            "Requirement already satisfied: joblib in /usr/local/lib/python3.10/dist-packages (from nltk>=3.0.2->sumy) (1.3.2)\n",
            "Requirement already satisfied: regex>=2021.8.3 in /usr/local/lib/python3.10/dist-packages (from nltk>=3.0.2->sumy) (2023.6.3)\n",
            "Requirement already satisfied: tqdm in /usr/local/lib/python3.10/dist-packages (from nltk>=3.0.2->sumy) (4.66.1)\n",
            "Requirement already satisfied: setuptools in /usr/local/lib/python3.10/dist-packages (from pycountry>=18.2.23->sumy) (67.7.2)\n",
            "Requirement already satisfied: charset-normalizer<4,>=2 in /usr/local/lib/python3.10/dist-packages (from requests>=2.7.0->sumy) (3.2.0)\n",
            "Requirement already satisfied: idna<4,>=2.5 in /usr/local/lib/python3.10/dist-packages (from requests>=2.7.0->sumy) (3.4)\n",
            "Requirement already satisfied: urllib3<3,>=1.21.1 in /usr/local/lib/python3.10/dist-packages (from requests>=2.7.0->sumy) (2.0.4)\n",
            "Requirement already satisfied: certifi>=2017.4.17 in /usr/local/lib/python3.10/dist-packages (from requests>=2.7.0->sumy) (2023.7.22)\n",
            "Building wheels for collected packages: breadability, docopt, pycountry\n",
            "  Building wheel for breadability (setup.py) ... \u001b[?25l\u001b[?25hdone\n",
            "  Created wheel for breadability: filename=breadability-0.1.20-py2.py3-none-any.whl size=21691 sha256=dd380a1e5320a09da2ac07d93d66ae13729c5266b664a1f29555405b3c1085a9\n",
            "  Stored in directory: /root/.cache/pip/wheels/64/22/90/b84fcc30e16598db20a0d41340616dbf9b1e82bbcc627b0b33\n",
            "  Building wheel for docopt (setup.py) ... \u001b[?25l\u001b[?25hdone\n",
            "  Created wheel for docopt: filename=docopt-0.6.2-py2.py3-none-any.whl size=13706 sha256=3741111167405defda7ff2e24ecd0ee7f14ffdaff55a0cccd08ddd001f335dc6\n",
            "  Stored in directory: /root/.cache/pip/wheels/fc/ab/d4/5da2067ac95b36618c629a5f93f809425700506f72c9732fac\n",
            "  Building wheel for pycountry (pyproject.toml) ... \u001b[?25l\u001b[?25hdone\n",
            "  Created wheel for pycountry: filename=pycountry-22.3.5-py2.py3-none-any.whl size=10681831 sha256=1868f879211ba228b997e9b923cd56361e37b808f6edaea66951faeaac596336\n",
            "  Stored in directory: /root/.cache/pip/wheels/03/57/cc/290c5252ec97a6d78d36479a3c5e5ecc76318afcb241ad9dbe\n",
            "Successfully built breadability docopt pycountry\n",
            "Installing collected packages: docopt, pycountry, breadability, sumy\n",
            "Successfully installed breadability-0.1.20 docopt-0.6.2 pycountry-22.3.5 sumy-0.11.0\n"
          ]
        }
      ]
    },
    {
      "cell_type": "code",
      "source": [
        "from sumy.summarizers.text_rank import TextRankSummarizer\n",
        "from sumy.summarizers.lsa import LsaSummarizer\n",
        "from sumy.parsers.plaintext import PlaintextParser\n",
        "from sumy.nlp.tokenizers import Tokenizer"
      ],
      "metadata": {
        "id": "JzlYt9Fh2gLG"
      },
      "execution_count": null,
      "outputs": []
    },
    {
      "cell_type": "code",
      "source": [
        "def summarize_sumy_txtrnk(text):\n",
        "    summarizer = TextRankSummarizer()\n",
        "    parser = PlaintextParser.from_string(text,Tokenizer(\"english\"))\n",
        "    summary = summarizer(parser.document,sentences_count=5)\n",
        "    for s in summary:\n",
        "        print(wrap(str(s)))"
      ],
      "metadata": {
        "id": "Sm-mEJLA2qVO"
      },
      "execution_count": null,
      "outputs": []
    },
    {
      "cell_type": "code",
      "source": [
        "summarize_sumy_txtrnk(df_train['article'][2])"
      ],
      "metadata": {
        "colab": {
          "base_uri": "https://localhost:8080/",
          "height": 289
        },
        "id": "2VukAWGF2sSe",
        "outputId": "9df4ae6f-f14e-4aff-b57d-1db7e9bd577e"
      },
      "execution_count": null,
      "outputs": [
        {
          "output_type": "display_data",
          "data": {
            "text/plain": [
              "A man convicted of killing the father and sister of his former\n",
              "girlfriend in a fiery attack on the family's Southern California home\n",
              "was sentenced to death on Tuesday.\n"
            ],
            "text/html": [
              "<pre style=\"white-space:pre;overflow-x:auto;line-height:normal;font-family:Menlo,'DejaVu Sans Mono',consolas,'Courier New',monospace\">A man convicted of killing the father and sister of his former\n",
              "girlfriend in a fiery attack on the family's Southern California home\n",
              "was sentenced to death on Tuesday.\n",
              "</pre>\n"
            ]
          },
          "metadata": {}
        },
        {
          "output_type": "display_data",
          "data": {
            "text/plain": [
              "Iftekhar Murtaza, \u001b[1;36m30\u001b[0m, was sentenced for the murders of Jay Dhanak, \u001b[1;36m56\u001b[0m,\n",
              "and his daughter Karishma, \u001b[1;36m20\u001b[0m, in May \u001b[1;36m2007\u001b[0m, the Orange County district\n",
              "attorney's office said.\n"
            ],
            "text/html": [
              "<pre style=\"white-space:pre;overflow-x:auto;line-height:normal;font-family:Menlo,'DejaVu Sans Mono',consolas,'Courier New',monospace\">Iftekhar Murtaza, <span style=\"color: #008080; text-decoration-color: #008080; font-weight: bold\">30</span>, was sentenced for the murders of Jay Dhanak, <span style=\"color: #008080; text-decoration-color: #008080; font-weight: bold\">56</span>,\n",
              "and his daughter Karishma, <span style=\"color: #008080; text-decoration-color: #008080; font-weight: bold\">20</span>, in May <span style=\"color: #008080; text-decoration-color: #008080; font-weight: bold\">2007</span>, the Orange County district\n",
              "attorney's office said.\n",
              "</pre>\n"
            ]
          },
          "metadata": {}
        },
        {
          "output_type": "display_data",
          "data": {
            "text/plain": [
              "To be executed: Iftekhar Murtaza, \u001b[1;36m30\u001b[0m, was sentenced to death Tuesday\n",
              "for the May \u001b[1;36m21\u001b[0m, \u001b[1;36m2007\u001b[0m murders of his ex-girlfriend's father and sister\n",
              "and the attempted murder of her mother .\n"
            ],
            "text/html": [
              "<pre style=\"white-space:pre;overflow-x:auto;line-height:normal;font-family:Menlo,'DejaVu Sans Mono',consolas,'Courier New',monospace\">To be executed: Iftekhar Murtaza, <span style=\"color: #008080; text-decoration-color: #008080; font-weight: bold\">30</span>, was sentenced to death Tuesday\n",
              "for the May <span style=\"color: #008080; text-decoration-color: #008080; font-weight: bold\">21</span>, <span style=\"color: #008080; text-decoration-color: #008080; font-weight: bold\">2007</span> murders of his ex-girlfriend's father and sister\n",
              "and the attempted murder of her mother .\n",
              "</pre>\n"
            ]
          },
          "metadata": {}
        },
        {
          "output_type": "display_data",
          "data": {
            "text/plain": [
              "Authorities said Murtaza and a friend torched the family's Anaheim\n",
              "Hills home and kidnapped and killed Dhanak's father and sister,\n",
              "leaving their stabbed bodies burning in a park \u001b[1;36m2\u001b[0m miles from Dhanak's\n",
              "dorm room at the University of California, Irvine.\n"
            ],
            "text/html": [
              "<pre style=\"white-space:pre;overflow-x:auto;line-height:normal;font-family:Menlo,'DejaVu Sans Mono',consolas,'Courier New',monospace\">Authorities said Murtaza and a friend torched the family's Anaheim\n",
              "Hills home and kidnapped and killed Dhanak's father and sister,\n",
              "leaving their stabbed bodies burning in a park <span style=\"color: #008080; text-decoration-color: #008080; font-weight: bold\">2</span> miles from Dhanak's\n",
              "dorm room at the University of California, Irvine.\n",
              "</pre>\n"
            ]
          },
          "metadata": {}
        },
        {
          "output_type": "display_data",
          "data": {
            "text/plain": [
              "During the trial, Murtaza testified that he told many people he wanted\n",
              "to kill the Dhanaks because he was distraught over the breakup, but he\n",
              "said he didn't mean it literally.\n"
            ],
            "text/html": [
              "<pre style=\"white-space:pre;overflow-x:auto;line-height:normal;font-family:Menlo,'DejaVu Sans Mono',consolas,'Courier New',monospace\">During the trial, Murtaza testified that he told many people he wanted\n",
              "to kill the Dhanaks because he was distraught over the breakup, but he\n",
              "said he didn't mean it literally.\n",
              "</pre>\n"
            ]
          },
          "metadata": {}
        }
      ]
    },
    {
      "cell_type": "code",
      "source": [
        "def summarize_sumy_lsa(text):\n",
        "    summarizer = LsaSummarizer()\n",
        "    parser = PlaintextParser.from_string(text,Tokenizer(\"english\"))\n",
        "    summary = summarizer(parser.document,sentences_count=5)\n",
        "    for s in summary:\n",
        "        print(wrap(str(s)))"
      ],
      "metadata": {
        "id": "PMS8oqVP21TT"
      },
      "execution_count": null,
      "outputs": []
    },
    {
      "cell_type": "code",
      "source": [
        "summarize_sumy_lsa(df_train['article'][2])"
      ],
      "metadata": {
        "colab": {
          "base_uri": "https://localhost:8080/",
          "height": 272
        },
        "id": "FsBy3kSp25NA",
        "outputId": "c16a9431-6d60-4a36-e08c-cbf6b9bb92cc"
      },
      "execution_count": null,
      "outputs": [
        {
          "output_type": "display_data",
          "data": {
            "text/plain": [
              "A man convicted of killing the father and sister of his former\n",
              "girlfriend in a fiery attack on the family's Southern California home\n",
              "was sentenced to death on Tuesday.\n"
            ],
            "text/html": [
              "<pre style=\"white-space:pre;overflow-x:auto;line-height:normal;font-family:Menlo,'DejaVu Sans Mono',consolas,'Courier New',monospace\">A man convicted of killing the father and sister of his former\n",
              "girlfriend in a fiery attack on the family's Southern California home\n",
              "was sentenced to death on Tuesday.\n",
              "</pre>\n"
            ]
          },
          "metadata": {}
        },
        {
          "output_type": "display_data",
          "data": {
            "text/plain": [
              "To be executed: Iftekhar Murtaza, \u001b[1;36m30\u001b[0m, was sentenced to death Tuesday\n",
              "for the May \u001b[1;36m21\u001b[0m, \u001b[1;36m2007\u001b[0m murders of his ex-girlfriend's father and sister\n",
              "and the attempted murder of her mother .\n"
            ],
            "text/html": [
              "<pre style=\"white-space:pre;overflow-x:auto;line-height:normal;font-family:Menlo,'DejaVu Sans Mono',consolas,'Courier New',monospace\">To be executed: Iftekhar Murtaza, <span style=\"color: #008080; text-decoration-color: #008080; font-weight: bold\">30</span>, was sentenced to death Tuesday\n",
              "for the May <span style=\"color: #008080; text-decoration-color: #008080; font-weight: bold\">21</span>, <span style=\"color: #008080; text-decoration-color: #008080; font-weight: bold\">2007</span> murders of his ex-girlfriend's father and sister\n",
              "and the attempted murder of her mother .\n",
              "</pre>\n"
            ]
          },
          "metadata": {}
        },
        {
          "output_type": "display_data",
          "data": {
            "text/plain": [
              "Didn't do it alone: Two of Murtaza's friends have been convicted in\n",
              "connection to the killings .\n"
            ],
            "text/html": [
              "<pre style=\"white-space:pre;overflow-x:auto;line-height:normal;font-family:Menlo,'DejaVu Sans Mono',consolas,'Courier New',monospace\">Didn't do it alone: Two of Murtaza's friends have been convicted in\n",
              "connection to the killings .\n",
              "</pre>\n"
            ]
          },
          "metadata": {}
        },
        {
          "output_type": "display_data",
          "data": {
            "text/plain": [
              "Killer: Leela Dhanak testified how Iftekhar Murtaza, seen in this\n",
              "August photo, murdered her husband and elder daughter in a failed\n",
              "attempt to win over her younger daughter .\n"
            ],
            "text/html": [
              "<pre style=\"white-space:pre;overflow-x:auto;line-height:normal;font-family:Menlo,'DejaVu Sans Mono',consolas,'Courier New',monospace\">Killer: Leela Dhanak testified how Iftekhar Murtaza, seen in this\n",
              "August photo, murdered her husband and elder daughter in a failed\n",
              "attempt to win over her younger daughter .\n",
              "</pre>\n"
            ]
          },
          "metadata": {}
        },
        {
          "output_type": "display_data",
          "data": {
            "text/plain": [
              "Bloodbath: Autopsy reports showed Jayprakash Dhanak \u001b[1m(\u001b[0mleft\u001b[1m)\u001b[0m suffered \u001b[1;36m29\u001b[0m\n",
              "stab wounds to his body, while a pathologist testified that Karishma\n",
              "Dhanak \u001b[1m(\u001b[0mright\u001b[1m)\u001b[0m was alive when her throat was slit and her body set\n",
              "alight .\n"
            ],
            "text/html": [
              "<pre style=\"white-space:pre;overflow-x:auto;line-height:normal;font-family:Menlo,'DejaVu Sans Mono',consolas,'Courier New',monospace\">Bloodbath: Autopsy reports showed Jayprakash Dhanak <span style=\"font-weight: bold\">(</span>left<span style=\"font-weight: bold\">)</span> suffered <span style=\"color: #008080; text-decoration-color: #008080; font-weight: bold\">29</span>\n",
              "stab wounds to his body, while a pathologist testified that Karishma\n",
              "Dhanak <span style=\"font-weight: bold\">(</span>right<span style=\"font-weight: bold\">)</span> was alive when her throat was slit and her body set\n",
              "alight .\n",
              "</pre>\n"
            ]
          },
          "metadata": {}
        }
      ]
    }
  ]
}